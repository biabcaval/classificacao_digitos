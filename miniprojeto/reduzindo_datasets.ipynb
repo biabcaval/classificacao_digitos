{
 "cells": [
  {
   "cell_type": "code",
   "execution_count": 33,
   "metadata": {},
   "outputs": [],
   "source": [
    "import pandas as pd\n",
    "import numpy as np\n",
    "\n",
    "dfteste = pd.read_csv(\"datasets/test.csv\", sep=';')\n",
    "dftreino = pd.read_csv(\"datasets/train.csv\", sep=';')"
   ]
  },
  {
   "cell_type": "code",
   "execution_count": 34,
   "metadata": {},
   "outputs": [],
   "source": [
    "# criando os datasets reduzidos\n",
    "\n",
    "\n",
    "def reduzir(dataframe):\n",
    "    num_linhas = len(dataframe)\n",
    "\n",
    "    dfredu = pd.DataFrame({\n",
    "        'intensidade': [0 for i in range(num_linhas)],\n",
    "        'simetria': [0 for i in range(num_linhas)],\n",
    "        'label': [l for l in dataframe['label']]\n",
    "    })\n",
    "\n",
    "    df_sem_label = dataframe.loc[:, 'pixel0':f'pixel{len(dataframe.columns)-2}']\n",
    "\n",
    "    # intensidade\n",
    "    for linha in range(len(dataframe)):\n",
    "        i = 0\n",
    "        for x in range(len(dataframe.columns)-2):\n",
    "            i+= df_sem_label[f'pixel{str(x)}'].loc[linha]\n",
    "        i /= 255\n",
    "        dfredu['intensidade'].loc[linha] = i\n",
    "\n",
    "    return dfredu\n",
    "\n",
    "\n",
    "\n"
   ]
  },
  {
   "cell_type": "code",
   "execution_count": 35,
   "metadata": {},
   "outputs": [],
   "source": [
    "teste_reduzido = reduzir(dfteste)\n",
    "treino_reduzido = reduzir(dftreino)"
   ]
  },
  {
   "cell_type": "code",
   "execution_count": 36,
   "metadata": {},
   "outputs": [],
   "source": [
    "def simetria(dataframe):\n",
    "\n",
    "    # simetria vertical\n",
    "    svs = []\n",
    "    for linha in range(len(dataframe)):\n",
    "        sv = 0\n",
    "\n",
    "        for i in range(28):\n",
    "            for j in range(14):\n",
    "                pixel1 = i * 28 + j # i*28 é para chegar até a linha i, j é o que ele \"anda\" para chegar até a coluna j\n",
    "                pixel2 = i * 28 + (27 - j) # i*28 é para chegar até a linha i, j é o que ele \"anda\" da direita pra esquerda para chegar até a coluna\n",
    "                sv += abs(dataframe.iloc[linha, pixel1+1] - dataframe.iloc[linha, pixel2+1])\n",
    "        svs.append(sv/255)\n",
    "\n",
    "    # simetria horizontal\n",
    "    shs = []\n",
    "    for linha in range(len(dataframe)):\n",
    "        sh = 0\n",
    "\n",
    "        for i in range(14):\n",
    "            for j in range(28):\n",
    "                pixel1 = i * 28 + j\n",
    "                pixel2  = (27 - i) * 28 + j\n",
    "                sh += abs(dataframe.iloc[linha, pixel1 +1] - dataframe.iloc[linha, pixel2 +1])\n",
    "        shs.append(sh/255)\n",
    "\n",
    "\n",
    "    simetria_total = [v + h for v, h in zip(svs, shs)]\n",
    "\n",
    "    return simetria_total\n"
   ]
  },
  {
   "cell_type": "code",
   "execution_count": 37,
   "metadata": {},
   "outputs": [],
   "source": [
    "teste_reduzido['simetria'] = simetria(dfteste)"
   ]
  },
  {
   "cell_type": "code",
   "execution_count": 38,
   "metadata": {},
   "outputs": [],
   "source": [
    "treino_reduzido['simetria'] = simetria(dftreino)"
   ]
  },
  {
   "cell_type": "code",
   "execution_count": 39,
   "metadata": {},
   "outputs": [
    {
     "data": {
      "text/html": [
       "<div>\n",
       "<style scoped>\n",
       "    .dataframe tbody tr th:only-of-type {\n",
       "        vertical-align: middle;\n",
       "    }\n",
       "\n",
       "    .dataframe tbody tr th {\n",
       "        vertical-align: top;\n",
       "    }\n",
       "\n",
       "    .dataframe thead th {\n",
       "        text-align: right;\n",
       "    }\n",
       "</style>\n",
       "<table border=\"1\" class=\"dataframe\">\n",
       "  <thead>\n",
       "    <tr style=\"text-align: right;\">\n",
       "      <th></th>\n",
       "      <th>intensidade</th>\n",
       "      <th>simetria</th>\n",
       "      <th>label</th>\n",
       "    </tr>\n",
       "  </thead>\n",
       "  <tbody>\n",
       "    <tr>\n",
       "      <th>0</th>\n",
       "      <td>145.435294</td>\n",
       "      <td>148.572549</td>\n",
       "      <td>0</td>\n",
       "    </tr>\n",
       "    <tr>\n",
       "      <th>1</th>\n",
       "      <td>118.576471</td>\n",
       "      <td>137.113725</td>\n",
       "      <td>0</td>\n",
       "    </tr>\n",
       "    <tr>\n",
       "      <th>2</th>\n",
       "      <td>127.600000</td>\n",
       "      <td>134.047059</td>\n",
       "      <td>0</td>\n",
       "    </tr>\n",
       "    <tr>\n",
       "      <th>3</th>\n",
       "      <td>138.047059</td>\n",
       "      <td>151.003922</td>\n",
       "      <td>0</td>\n",
       "    </tr>\n",
       "    <tr>\n",
       "      <th>4</th>\n",
       "      <td>146.215686</td>\n",
       "      <td>122.501961</td>\n",
       "      <td>0</td>\n",
       "    </tr>\n",
       "    <tr>\n",
       "      <th>...</th>\n",
       "      <td>...</td>\n",
       "      <td>...</td>\n",
       "      <td>...</td>\n",
       "    </tr>\n",
       "    <tr>\n",
       "      <th>2181</th>\n",
       "      <td>105.686275</td>\n",
       "      <td>133.890196</td>\n",
       "      <td>5</td>\n",
       "    </tr>\n",
       "    <tr>\n",
       "      <th>2182</th>\n",
       "      <td>113.050980</td>\n",
       "      <td>116.698039</td>\n",
       "      <td>5</td>\n",
       "    </tr>\n",
       "    <tr>\n",
       "      <th>2183</th>\n",
       "      <td>110.725490</td>\n",
       "      <td>133.019608</td>\n",
       "      <td>5</td>\n",
       "    </tr>\n",
       "    <tr>\n",
       "      <th>2184</th>\n",
       "      <td>99.305882</td>\n",
       "      <td>132.133333</td>\n",
       "      <td>5</td>\n",
       "    </tr>\n",
       "    <tr>\n",
       "      <th>2185</th>\n",
       "      <td>101.172549</td>\n",
       "      <td>141.364706</td>\n",
       "      <td>5</td>\n",
       "    </tr>\n",
       "  </tbody>\n",
       "</table>\n",
       "<p>2186 rows × 3 columns</p>\n",
       "</div>"
      ],
      "text/plain": [
       "      intensidade    simetria  label\n",
       "0      145.435294  148.572549      0\n",
       "1      118.576471  137.113725      0\n",
       "2      127.600000  134.047059      0\n",
       "3      138.047059  151.003922      0\n",
       "4      146.215686  122.501961      0\n",
       "...           ...         ...    ...\n",
       "2181   105.686275  133.890196      5\n",
       "2182   113.050980  116.698039      5\n",
       "2183   110.725490  133.019608      5\n",
       "2184    99.305882  132.133333      5\n",
       "2185   101.172549  141.364706      5\n",
       "\n",
       "[2186 rows x 3 columns]"
      ]
     },
     "execution_count": 39,
     "metadata": {},
     "output_type": "execute_result"
    }
   ],
   "source": [
    "treino_reduzido"
   ]
  },
  {
   "cell_type": "code",
   "execution_count": 41,
   "metadata": {},
   "outputs": [],
   "source": [
    "# treino_reduzido.to_csv('treino_reduzido.csv', sep=';', columns=treino_reduzido.columns, index=False)\n",
    "# teste_reduzido.to_csv('teste_reduzido.csv', sep=';', columns=teste_reduzido.columns, index=False)"
   ]
  }
 ],
 "metadata": {
  "kernelspec": {
   "display_name": "base",
   "language": "python",
   "name": "python3"
  },
  "language_info": {
   "codemirror_mode": {
    "name": "ipython",
    "version": 3
   },
   "file_extension": ".py",
   "mimetype": "text/x-python",
   "name": "python",
   "nbconvert_exporter": "python",
   "pygments_lexer": "ipython3",
   "version": "3.8.19"
  }
 },
 "nbformat": 4,
 "nbformat_minor": 2
}
